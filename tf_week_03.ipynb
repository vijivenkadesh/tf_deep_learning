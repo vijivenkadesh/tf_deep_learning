{
  "nbformat": 4,
  "nbformat_minor": 0,
  "metadata": {
    "colab": {
      "provenance": []
    },
    "kernelspec": {
      "name": "python3",
      "display_name": "Python 3"
    },
    "language_info": {
      "name": "python"
    }
  },
  "cells": [
    {
      "cell_type": "code",
      "execution_count": null,
      "metadata": {
        "id": "BEelCNkm-P8u"
      },
      "outputs": [],
      "source": [
        "import tensorflow as tf"
      ]
    },
    {
      "cell_type": "code",
      "source": [
        "X = tf.range(-100, 100, 4)\n",
        "y = X + 10\n",
        "y"
      ],
      "metadata": {
        "colab": {
          "base_uri": "https://localhost:8080/"
        },
        "id": "bbKrJpB9-hXZ",
        "outputId": "c5e7d229-9b74-4174-ab53-ff9ecdb9eb33"
      },
      "execution_count": null,
      "outputs": [
        {
          "output_type": "execute_result",
          "data": {
            "text/plain": [
              "<tf.Tensor: shape=(50,), dtype=int32, numpy=\n",
              "array([-90, -86, -82, -78, -74, -70, -66, -62, -58, -54, -50, -46, -42,\n",
              "       -38, -34, -30, -26, -22, -18, -14, -10,  -6,  -2,   2,   6,  10,\n",
              "        14,  18,  22,  26,  30,  34,  38,  42,  46,  50,  54,  58,  62,\n",
              "        66,  70,  74,  78,  82,  86,  90,  94,  98, 102, 106], dtype=int32)>"
            ]
          },
          "metadata": {},
          "execution_count": 3
        }
      ]
    },
    {
      "cell_type": "code",
      "source": [
        "import matplotlib.pyplot as plt\n",
        "plt.plot(X, y)"
      ],
      "metadata": {
        "colab": {
          "base_uri": "https://localhost:8080/",
          "height": 447
        },
        "id": "HmqzPyei-3Vt",
        "outputId": "a9cd9faa-1639-4054-e182-f6c1fe3f68a4"
      },
      "execution_count": null,
      "outputs": [
        {
          "output_type": "execute_result",
          "data": {
            "text/plain": [
              "[<matplotlib.lines.Line2D at 0x7a8638a4acb0>]"
            ]
          },
          "metadata": {},
          "execution_count": 4
        },
        {
          "output_type": "display_data",
          "data": {
            "text/plain": [
              "<Figure size 640x480 with 1 Axes>"
            ],
            "image/png": "[encoded data removed]"
          },
          "metadata": {}
        }
      ]
    },
    {
      "cell_type": "code",
      "source": [
        "X_train = X[:40]\n",
        "X_test = X[40:]\n",
        "y_train = y[:40]\n",
        "y_test = y[40:]\n"
      ],
      "metadata": {
        "id": "mlR6B2XwA1Fe"
      },
      "execution_count": null,
      "outputs": []
    },
    {
      "cell_type": "code",
      "source": [
        "X_train = tf.expand_dims(X_train, axis=-1)"
      ],
      "metadata": {
        "id": "mNZTSg4yLBNY"
      },
      "execution_count": null,
      "outputs": []
    },
    {
      "cell_type": "code",
      "source": [
        "model = tf.keras.Sequential([\n",
        "    tf.keras.layers.Dense(1)\n",
        "])"
      ],
      "metadata": {
        "id": "v7zxqFC7C54e"
      },
      "execution_count": null,
      "outputs": []
    },
    {
      "cell_type": "code",
      "source": [
        "model.compile(loss=tf.keras.losses.mae,\n",
        "              optimizer=tf.keras.optimizers.SGD(),\n",
        "              metrics=['mae'])"
      ],
      "metadata": {
        "id": "X16gYqgSDcFd"
      },
      "execution_count": null,
      "outputs": []
    },
    {
      "cell_type": "code",
      "source": [
        "model.fit(X_train, y_train, epochs=100)"
      ],
      "metadata": {
        "colab": {
          "base_uri": "https://localhost:8080/"
        },
        "id": "6b-YbK7cHydm",
        "outputId": "8529d1ca-6d64-4e16-da1d-3e5b487ebd26"
      },
      "execution_count": null,
      "outputs": [
        {
          "output_type": "stream",
          "name": "stdout",
          "text": [
            "Epoch 1/100\n",
            "2/2 [==============================] - 0s 10ms/step - loss: 12.1016 - mae: 12.1016\n",
            "Epoch 2/100\n",
            "2/2 [==============================] - 0s 19ms/step - loss: 9.8800 - mae: 9.8800\n",
            "Epoch 3/100\n",
            "2/2 [==============================] - 0s 13ms/step - loss: 9.1103 - mae: 9.1103\n",
            "Epoch 4/100\n",
            "2/2 [==============================] - 0s 12ms/step - loss: 12.5039 - mae: 12.5039\n",
            "Epoch 5/100\n",
            "2/2 [==============================] - 0s 8ms/step - loss: 9.9120 - mae: 9.9120\n",
            "Epoch 6/100\n",
            "2/2 [==============================] - 0s 9ms/step - loss: 9.4073 - mae: 9.4073\n",
            "Epoch 7/100\n",
            "2/2 [==============================] - 0s 8ms/step - loss: 11.6839 - mae: 11.6839\n",
            "Epoch 8/100\n",
            "2/2 [==============================] - 0s 12ms/step - loss: 9.8776 - mae: 9.8776\n",
            "Epoch 9/100\n",
            "2/2 [==============================] - 0s 13ms/step - loss: 13.8260 - mae: 13.8260\n",
            "Epoch 10/100\n",
            "2/2 [==============================] - 0s 10ms/step - loss: 15.0714 - mae: 15.0714\n",
            "Epoch 11/100\n",
            "2/2 [==============================] - 0s 11ms/step - loss: 13.6652 - mae: 13.6652\n",
            "Epoch 12/100\n",
            "2/2 [==============================] - 0s 10ms/step - loss: 14.1262 - mae: 14.1262\n",
            "Epoch 13/100\n",
            "2/2 [==============================] - 0s 13ms/step - loss: 10.5431 - mae: 10.5431\n",
            "Epoch 14/100\n",
            "2/2 [==============================] - 0s 9ms/step - loss: 16.2180 - mae: 16.2180\n",
            "Epoch 15/100\n",
            "2/2 [==============================] - 0s 12ms/step - loss: 8.8831 - mae: 8.8831\n",
            "Epoch 16/100\n",
            "2/2 [==============================] - 0s 10ms/step - loss: 12.5341 - mae: 12.5341\n",
            "Epoch 17/100\n",
            "2/2 [==============================] - 0s 9ms/step - loss: 14.0711 - mae: 14.0711\n",
            "Epoch 18/100\n",
            "2/2 [==============================] - 0s 9ms/step - loss: 12.4838 - mae: 12.4838\n",
            "Epoch 19/100\n",
            "2/2 [==============================] - 0s 10ms/step - loss: 9.5218 - mae: 9.5218\n",
            "Epoch 20/100\n",
            "2/2 [==============================] - 0s 9ms/step - loss: 11.2359 - mae: 11.2359\n",
            "Epoch 21/100\n",
            "2/2 [==============================] - 0s 9ms/step - loss: 11.9050 - mae: 11.9050\n",
            "Epoch 22/100\n",
            "2/2 [==============================] - 0s 8ms/step - loss: 14.5592 - mae: 14.5592\n",
            "Epoch 23/100\n",
            "2/2 [==============================] - 0s 8ms/step - loss: 8.1085 - mae: 8.1085\n",
            "Epoch 24/100\n",
            "2/2 [==============================] - 0s 11ms/step - loss: 9.4941 - mae: 9.4941\n",
            "Epoch 25/100\n",
            "2/2 [==============================] - 0s 12ms/step - loss: 9.3565 - mae: 9.3565\n",
            "Epoch 26/100\n",
            "2/2 [==============================] - 0s 13ms/step - loss: 12.5085 - mae: 12.5085\n",
            "Epoch 27/100\n",
            "2/2 [==============================] - 0s 14ms/step - loss: 8.5724 - mae: 8.5724\n",
            "Epoch 28/100\n",
            "2/2 [==============================] - 0s 14ms/step - loss: 8.8287 - mae: 8.8287\n",
            "Epoch 29/100\n",
            "2/2 [==============================] - 0s 10ms/step - loss: 14.9383 - mae: 14.9383\n",
            "Epoch 30/100\n",
            "2/2 [==============================] - 0s 10ms/step - loss: 10.3273 - mae: 10.3273\n",
            "Epoch 31/100\n",
            "2/2 [==============================] - 0s 17ms/step - loss: 7.2758 - mae: 7.2758\n",
            "Epoch 32/100\n",
            "2/2 [==============================] - 0s 17ms/step - loss: 13.3257 - mae: 13.3257\n",
            "Epoch 33/100\n",
            "2/2 [==============================] - 0s 16ms/step - loss: 17.1558 - mae: 17.1558\n",
            "Epoch 34/100\n",
            "2/2 [==============================] - 0s 15ms/step - loss: 11.1293 - mae: 11.1293\n",
            "Epoch 35/100\n",
            "2/2 [==============================] - 0s 17ms/step - loss: 10.0333 - mae: 10.0333\n",
            "Epoch 36/100\n",
            "2/2 [==============================] - 0s 25ms/step - loss: 9.1131 - mae: 9.1131\n",
            "Epoch 37/100\n",
            "2/2 [==============================] - 0s 12ms/step - loss: 13.2798 - mae: 13.2798\n",
            "Epoch 38/100\n",
            "2/2 [==============================] - 0s 16ms/step - loss: 12.7764 - mae: 12.7764\n",
            "Epoch 39/100\n",
            "2/2 [==============================] - 0s 18ms/step - loss: 14.0132 - mae: 14.0132\n",
            "Epoch 40/100\n",
            "2/2 [==============================] - 0s 22ms/step - loss: 13.3059 - mae: 13.3059\n",
            "Epoch 41/100\n",
            "2/2 [==============================] - 0s 13ms/step - loss: 11.4679 - mae: 11.4679\n",
            "Epoch 42/100\n",
            "2/2 [==============================] - 0s 8ms/step - loss: 8.2526 - mae: 8.2526\n",
            "Epoch 43/100\n",
            "2/2 [==============================] - 0s 7ms/step - loss: 9.4192 - mae: 9.4192\n",
            "Epoch 44/100\n",
            "2/2 [==============================] - 0s 10ms/step - loss: 10.4009 - mae: 10.4009\n",
            "Epoch 45/100\n",
            "2/2 [==============================] - 0s 9ms/step - loss: 16.0514 - mae: 16.0514\n",
            "Epoch 46/100\n",
            "2/2 [==============================] - 0s 8ms/step - loss: 15.6874 - mae: 15.6874\n",
            "Epoch 47/100\n",
            "2/2 [==============================] - 0s 8ms/step - loss: 9.3156 - mae: 9.3156\n",
            "Epoch 48/100\n",
            "2/2 [==============================] - 0s 9ms/step - loss: 11.0532 - mae: 11.0532\n",
            "Epoch 49/100\n",
            "2/2 [==============================] - 0s 8ms/step - loss: 20.6098 - mae: 20.6098\n",
            "Epoch 50/100\n",
            "2/2 [==============================] - 0s 7ms/step - loss: 10.8847 - mae: 10.8847\n",
            "Epoch 51/100\n",
            "2/2 [==============================] - 0s 7ms/step - loss: 8.4428 - mae: 8.4428\n",
            "Epoch 52/100\n",
            "2/2 [==============================] - 0s 10ms/step - loss: 9.9666 - mae: 9.9666\n",
            "Epoch 53/100\n",
            "2/2 [==============================] - 0s 10ms/step - loss: 11.6332 - mae: 11.6332\n",
            "Epoch 54/100\n",
            "2/2 [==============================] - 0s 8ms/step - loss: 12.8019 - mae: 12.8019\n",
            "Epoch 55/100\n",
            "2/2 [==============================] - 0s 11ms/step - loss: 8.3584 - mae: 8.3584\n",
            "Epoch 56/100\n",
            "2/2 [==============================] - 0s 10ms/step - loss: 9.0582 - mae: 9.0582\n",
            "Epoch 57/100\n",
            "2/2 [==============================] - 0s 9ms/step - loss: 10.2924 - mae: 10.2924\n",
            "Epoch 58/100\n",
            "2/2 [==============================] - 0s 8ms/step - loss: 10.5519 - mae: 10.5519\n",
            "Epoch 59/100\n",
            "2/2 [==============================] - 0s 8ms/step - loss: 11.9010 - mae: 11.9010\n",
            "Epoch 60/100\n",
            "2/2 [==============================] - 0s 8ms/step - loss: 15.0620 - mae: 15.0620\n",
            "Epoch 61/100\n",
            "2/2 [==============================] - 0s 8ms/step - loss: 16.0004 - mae: 16.0004\n",
            "Epoch 62/100\n",
            "2/2 [==============================] - 0s 8ms/step - loss: 10.3056 - mae: 10.3056\n",
            "Epoch 63/100\n",
            "2/2 [==============================] - 0s 7ms/step - loss: 9.9695 - mae: 9.9695\n",
            "Epoch 64/100\n",
            "2/2 [==============================] - 0s 8ms/step - loss: 8.6364 - mae: 8.6364\n",
            "Epoch 65/100\n",
            "2/2 [==============================] - 0s 7ms/step - loss: 13.5881 - mae: 13.5881\n",
            "Epoch 66/100\n",
            "2/2 [==============================] - 0s 8ms/step - loss: 11.2125 - mae: 11.2125\n",
            "Epoch 67/100\n",
            "2/2 [==============================] - 0s 7ms/step - loss: 11.5767 - mae: 11.5767\n",
            "Epoch 68/100\n",
            "2/2 [==============================] - 0s 9ms/step - loss: 8.7857 - mae: 8.7857\n",
            "Epoch 69/100\n",
            "2/2 [==============================] - 0s 14ms/step - loss: 12.5774 - mae: 12.5774\n",
            "Epoch 70/100\n",
            "2/2 [==============================] - 0s 10ms/step - loss: 8.7314 - mae: 8.7314\n",
            "Epoch 71/100\n",
            "2/2 [==============================] - 0s 9ms/step - loss: 7.5787 - mae: 7.5787\n",
            "Epoch 72/100\n",
            "2/2 [==============================] - 0s 8ms/step - loss: 7.0830 - mae: 7.0830\n",
            "Epoch 73/100\n",
            "2/2 [==============================] - 0s 8ms/step - loss: 13.7290 - mae: 13.7290\n",
            "Epoch 74/100\n",
            "2/2 [==============================] - 0s 10ms/step - loss: 9.8882 - mae: 9.8882\n",
            "Epoch 75/100\n",
            "2/2 [==============================] - 0s 7ms/step - loss: 7.1445 - mae: 7.1445\n",
            "Epoch 76/100\n",
            "2/2 [==============================] - 0s 7ms/step - loss: 8.4766 - mae: 8.4766\n",
            "Epoch 77/100\n",
            "2/2 [==============================] - 0s 8ms/step - loss: 10.7559 - mae: 10.7559\n",
            "Epoch 78/100\n",
            "2/2 [==============================] - 0s 7ms/step - loss: 12.4188 - mae: 12.4188\n",
            "Epoch 79/100\n",
            "2/2 [==============================] - 0s 8ms/step - loss: 8.3602 - mae: 8.3602\n",
            "Epoch 80/100\n",
            "2/2 [==============================] - 0s 7ms/step - loss: 7.8903 - mae: 7.8903\n",
            "Epoch 81/100\n",
            "2/2 [==============================] - 0s 8ms/step - loss: 13.0252 - mae: 13.0252\n",
            "Epoch 82/100\n",
            "2/2 [==============================] - 0s 8ms/step - loss: 9.7532 - mae: 9.7532\n",
            "Epoch 83/100\n",
            "2/2 [==============================] - 0s 8ms/step - loss: 11.0112 - mae: 11.0112\n",
            "Epoch 84/100\n",
            "2/2 [==============================] - 0s 11ms/step - loss: 12.5954 - mae: 12.5954\n",
            "Epoch 85/100\n",
            "2/2 [==============================] - 0s 8ms/step - loss: 10.8837 - mae: 10.8837\n",
            "Epoch 86/100\n",
            "2/2 [==============================] - 0s 11ms/step - loss: 11.3377 - mae: 11.3377\n",
            "Epoch 87/100\n",
            "2/2 [==============================] - 0s 9ms/step - loss: 7.8105 - mae: 7.8105\n",
            "Epoch 88/100\n",
            "2/2 [==============================] - 0s 11ms/step - loss: 9.9981 - mae: 9.9981\n",
            "Epoch 89/100\n",
            "2/2 [==============================] - 0s 7ms/step - loss: 8.0527 - mae: 8.0527\n",
            "Epoch 90/100\n",
            "2/2 [==============================] - 0s 7ms/step - loss: 7.1910 - mae: 7.1910\n",
            "Epoch 91/100\n",
            "2/2 [==============================] - 0s 7ms/step - loss: 7.5806 - mae: 7.5806\n",
            "Epoch 92/100\n",
            "2/2 [==============================] - 0s 7ms/step - loss: 7.0336 - mae: 7.0336\n",
            "Epoch 93/100\n",
            "2/2 [==============================] - 0s 7ms/step - loss: 9.1831 - mae: 9.1831\n",
            "Epoch 94/100\n",
            "2/2 [==============================] - 0s 8ms/step - loss: 7.5570 - mae: 7.5570\n",
            "Epoch 95/100\n",
            "2/2 [==============================] - 0s 9ms/step - loss: 10.4745 - mae: 10.4745\n",
            "Epoch 96/100\n",
            "2/2 [==============================] - 0s 7ms/step - loss: 11.1582 - mae: 11.1582\n",
            "Epoch 97/100\n",
            "2/2 [==============================] - 0s 7ms/step - loss: 22.8165 - mae: 22.8165\n",
            "Epoch 98/100\n",
            "2/2 [==============================] - 0s 7ms/step - loss: 11.7791 - mae: 11.7791\n",
            "Epoch 99/100\n",
            "2/2 [==============================] - 0s 7ms/step - loss: 12.0602 - mae: 12.0602\n",
            "Epoch 100/100\n",
            "2/2 [==============================] - 0s 7ms/step - loss: 6.6927 - mae: 6.6927\n"
          ]
        },
        {
          "output_type": "execute_result",
          "data": {
            "text/plain": [
              "<keras.callbacks.History at 0x7a8588dbda80>"
            ]
          },
          "metadata": {},
          "execution_count": 17
        }
      ]
    },
    {
      "cell_type": "code",
      "source": [
        "model.summary()"
      ],
      "metadata": {
        "id": "GYsQsnCoMHmB",
        "outputId": "2ecbd151-4ffd-48e6-c736-37787c105ec0",
        "colab": {
          "base_uri": "https://localhost:8080/"
        }
      },
      "execution_count": null,
      "outputs": [
        {
          "output_type": "stream",
          "name": "stdout",
          "text": [
            "Model: \"sequential_1\"\n",
            "_________________________________________________________________\n",
            " Layer (type)                Output Shape              Param #   \n",
            "=================================================================\n",
            " dense_1 (Dense)             (None, 1)                 2         \n",
            "                                                                 \n",
            "=================================================================\n",
            "Total params: 2\n",
            "Trainable params: 2\n",
            "Non-trainable params: 0\n",
            "_________________________________________________________________\n"
          ]
        }
      ]
    }
  ]
}