{
  "nbformat": 4,
  "nbformat_minor": 0,
  "metadata": {
    "colab": {
      "provenance": []
    },
    "kernelspec": {
      "name": "python3",
      "display_name": "Python 3"
    },
    "language_info": {
      "name": "python"
    }
  },
  "cells": [
    {
      "cell_type": "code",
      "execution_count": null,
      "metadata": {
        "colab": {
          "base_uri": "https://localhost:8080/"
        },
        "id": "SL1DQOlQpQ7v",
        "outputId": "8cc71dbc-1b51-4b54-c30f-892508fffe72"
      },
      "outputs": [
        {
          "output_type": "execute_result",
          "data": {
            "text/plain": [
              "<tf.Tensor: shape=(1, 3), dtype=int32, numpy=array([[1, 2, 3]], dtype=int32)>"
            ]
          },
          "metadata": {},
          "execution_count": 2
        }
      ],
      "source": [
        "import tensorflow as tf\n",
        "T = tf.constant([[1, 2, 3]])\n",
        "T = tf.cast(T, dtype=tf.int32)\n",
        "T"
      ]
    },
    {
      "cell_type": "code",
      "source": [
        "T @ tf.transpose(T)"
      ],
      "metadata": {
        "colab": {
          "base_uri": "https://localhost:8080/"
        },
        "id": "Glmixq01iiAO",
        "outputId": "60f86b6e-4432-4286-ae37-7b6af73fb79f"
      },
      "execution_count": null,
      "outputs": [
        {
          "output_type": "execute_result",
          "data": {
            "text/plain": [
              "<tf.Tensor: shape=(1, 1), dtype=int32, numpy=array([[14]], dtype=int32)>"
            ]
          },
          "metadata": {},
          "execution_count": 3
        }
      ]
    },
    {
      "cell_type": "code",
      "source": [
        "tensor_1 = tf.constant([[40, 50, 6],\n",
        "                        [45, 78, 96],\n",
        "                        [100, 33, 85]])"
      ],
      "metadata": {
        "id": "vP4hTE9wj-S7"
      },
      "execution_count": null,
      "outputs": []
    },
    {
      "cell_type": "code",
      "source": [
        "print(tf.reduce_min(tensor_1))\n",
        "print(tf.reduce_max(tensor_1))\n",
        "print(tf.reduce_mean(tensor_1))\n",
        "print(tf.reduce_sum(tensor_1))\n",
        "print(tf.math.reduce_std(tf.cast(tensor_1, dtype=tf.float32)))\n",
        "print(tf.math.reduce_variance(tf.cast(tensor_1, dtype=tf.float32)))"
      ],
      "metadata": {
        "colab": {
          "base_uri": "https://localhost:8080/"
        },
        "id": "P6dcbj2TkOlF",
        "outputId": "12efbd76-94b3-457d-889c-9d34808d269f"
      },
      "execution_count": null,
      "outputs": [
        {
          "output_type": "stream",
          "name": "stdout",
          "text": [
            "tf.Tensor(6, shape=(), dtype=int32)\n",
            "tf.Tensor(100, shape=(), dtype=int32)\n",
            "tf.Tensor(59, shape=(), dtype=int32)\n",
            "tf.Tensor(533, shape=(), dtype=int32)\n",
            "tf.Tensor(30.2022, shape=(), dtype=float32)\n",
            "tf.Tensor(912.17285, shape=(), dtype=float32)\n"
          ]
        }
      ]
    },
    {
      "cell_type": "code",
      "source": [
        "tensor_2 = tf.random.uniform(shape=(50, 2))\n",
        "tensor_2"
      ],
      "metadata": {
        "colab": {
          "base_uri": "https://localhost:8080/"
        },
        "id": "9DRJXEC1utHq",
        "outputId": "70044316-84c0-4fe4-984c-ee91b5ca974b"
      },
      "execution_count": null,
      "outputs": [
        {
          "output_type": "execute_result",
          "data": {
            "text/plain": [
              "<tf.Tensor: shape=(50, 2), dtype=float32, numpy=\n",
              "array([[0.35169005, 0.25782406],\n",
              "       [0.36725032, 0.11282921],\n",
              "       [0.6192653 , 0.11753368],\n",
              "       [0.38260376, 0.8502444 ],\n",
              "       [0.261047  , 0.2580285 ],\n",
              "       [0.68390405, 0.02328908],\n",
              "       [0.603199  , 0.63503206],\n",
              "       [0.47367692, 0.6719345 ],\n",
              "       [0.42320788, 0.5612483 ],\n",
              "       [0.1543864 , 0.72589505],\n",
              "       [0.62271845, 0.19921613],\n",
              "       [0.01112282, 0.03979659],\n",
              "       [0.06977391, 0.152529  ],\n",
              "       [0.92617404, 0.5839906 ],\n",
              "       [0.60112345, 0.76334333],\n",
              "       [0.5609244 , 0.9806534 ],\n",
              "       [0.23866093, 0.25578701],\n",
              "       [0.26028085, 0.9756721 ],\n",
              "       [0.5769657 , 0.9184153 ],\n",
              "       [0.91871834, 0.02222216],\n",
              "       [0.7828512 , 0.62789047],\n",
              "       [0.2814443 , 0.18442488],\n",
              "       [0.7024684 , 0.8145441 ],\n",
              "       [0.16381896, 0.86950934],\n",
              "       [0.9150727 , 0.10813081],\n",
              "       [0.23842001, 0.9424672 ],\n",
              "       [0.6068828 , 0.9134997 ],\n",
              "       [0.65313256, 0.11018252],\n",
              "       [0.1636504 , 0.09073079],\n",
              "       [0.14301538, 0.4320979 ],\n",
              "       [0.71618044, 0.11457002],\n",
              "       [0.1978941 , 0.6264163 ],\n",
              "       [0.7019534 , 0.42720914],\n",
              "       [0.8238816 , 0.63715756],\n",
              "       [0.46106064, 0.3139335 ],\n",
              "       [0.90886664, 0.27864337],\n",
              "       [0.54858124, 0.14077926],\n",
              "       [0.10248756, 0.41700602],\n",
              "       [0.09296846, 0.12834227],\n",
              "       [0.47308302, 0.44332778],\n",
              "       [0.5680536 , 0.68970037],\n",
              "       [0.7543373 , 0.5276177 ],\n",
              "       [0.42183113, 0.28335857],\n",
              "       [0.8988286 , 0.13868153],\n",
              "       [0.14091611, 0.20138657],\n",
              "       [0.26162088, 0.6662266 ],\n",
              "       [0.41398823, 0.01708138],\n",
              "       [0.31128407, 0.11595726],\n",
              "       [0.24289799, 0.08430779],\n",
              "       [0.60025716, 0.2416302 ]], dtype=float32)>"
            ]
          },
          "metadata": {},
          "execution_count": 6
        }
      ]
    },
    {
      "cell_type": "code",
      "source": [
        "tf.argmax(tensor_2)\n"
      ],
      "metadata": {
        "colab": {
          "base_uri": "https://localhost:8080/"
        },
        "id": "fHVgTy8VvI1v",
        "outputId": "7fd41db9-bdad-4100-b3b9-6a6ec75cf70b"
      },
      "execution_count": null,
      "outputs": [
        {
          "output_type": "execute_result",
          "data": {
            "text/plain": [
              "<tf.Tensor: shape=(2,), dtype=int64, numpy=array([13, 15])>"
            ]
          },
          "metadata": {},
          "execution_count": 7
        }
      ]
    },
    {
      "cell_type": "code",
      "source": [
        "tf.reduce_max(tensor_2)"
      ],
      "metadata": {
        "colab": {
          "base_uri": "https://localhost:8080/"
        },
        "id": "ZrSa_PhewTNW",
        "outputId": "6c00b3a1-8ef3-41b9-e520-62d3922a6d6f"
      },
      "execution_count": null,
      "outputs": [
        {
          "output_type": "execute_result",
          "data": {
            "text/plain": [
              "<tf.Tensor: shape=(), dtype=float32, numpy=0.9806534>"
            ]
          },
          "metadata": {},
          "execution_count": 8
        }
      ]
    },
    {
      "cell_type": "code",
      "source": [
        "tensor_2[29][0]"
      ],
      "metadata": {
        "colab": {
          "base_uri": "https://localhost:8080/"
        },
        "id": "0Imo5a4wv7HQ",
        "outputId": "1bcf27c3-c1eb-4c85-dd28-b9abfc8e87df"
      },
      "execution_count": null,
      "outputs": [
        {
          "output_type": "execute_result",
          "data": {
            "text/plain": [
              "<tf.Tensor: shape=(), dtype=float32, numpy=0.14301538>"
            ]
          },
          "metadata": {},
          "execution_count": 9
        }
      ]
    },
    {
      "cell_type": "code",
      "source": [
        "list = [0, 1 , 2, 3]\n",
        "tf.one_hot(list, depth=4)"
      ],
      "metadata": {
        "colab": {
          "base_uri": "https://localhost:8080/"
        },
        "id": "4p_D3e_QUu9C",
        "outputId": "dab1bd6c-352c-404d-e6df-79bdd6dd20d3"
      },
      "execution_count": null,
      "outputs": [
        {
          "output_type": "execute_result",
          "data": {
            "text/plain": [
              "<tf.Tensor: shape=(4, 4), dtype=float32, numpy=\n",
              "array([[1., 0., 0., 0.],\n",
              "       [0., 1., 0., 0.],\n",
              "       [0., 0., 1., 0.],\n",
              "       [0., 0., 0., 1.]], dtype=float32)>"
            ]
          },
          "metadata": {},
          "execution_count": 17
        }
      ]
    },
    {
      "cell_type": "code",
      "source": [
        "tf.one_hot(list, depth=4, on_value=\"hmmm\", off_value=\"fuck\")"
      ],
      "metadata": {
        "colab": {
          "base_uri": "https://localhost:8080/"
        },
        "id": "EdAWPViCV1fm",
        "outputId": "c6336f4f-3b02-4750-a975-4d23309c48ed"
      },
      "execution_count": null,
      "outputs": [
        {
          "output_type": "execute_result",
          "data": {
            "text/plain": [
              "<tf.Tensor: shape=(4, 4), dtype=string, numpy=\n",
              "array([[b'hmmm', b'fuck', b'fuck', b'fuck'],\n",
              "       [b'fuck', b'hmmm', b'fuck', b'fuck'],\n",
              "       [b'fuck', b'fuck', b'hmmm', b'fuck'],\n",
              "       [b'fuck', b'fuck', b'fuck', b'hmmm']], dtype=object)>"
            ]
          },
          "metadata": {},
          "execution_count": 18
        }
      ]
    },
    {
      "cell_type": "code",
      "source": [
        "price_milk_petrol = tf.constant([[22, 105]])\n",
        "price_milk_petrol.shape"
      ],
      "metadata": {
        "colab": {
          "base_uri": "https://localhost:8080/"
        },
        "id": "SlK7NbrKkP1e",
        "outputId": "c1851598-3713-4834-9c37-e54485c1f6af"
      },
      "execution_count": null,
      "outputs": [
        {
          "output_type": "execute_result",
          "data": {
            "text/plain": [
              "TensorShape([1, 2])"
            ]
          },
          "metadata": {},
          "execution_count": 20
        }
      ]
    },
    {
      "cell_type": "code",
      "source": [
        "expence_two_weeks = tf.constant([[1, 0, 2, 0, 2, 1, 1],\n",
        "                                [0, 0, 2, 0, 2, 0, 0]])\n",
        "expence_two_weeks.shape"
      ],
      "metadata": {
        "colab": {
          "base_uri": "https://localhost:8080/"
        },
        "id": "EzktBnAYkmRl",
        "outputId": "39dbf115-7fa9-475d-8a58-a6564645bf42"
      },
      "execution_count": null,
      "outputs": [
        {
          "output_type": "execute_result",
          "data": {
            "text/plain": [
              "TensorShape([2, 7])"
            ]
          },
          "metadata": {},
          "execution_count": 23
        }
      ]
    },
    {
      "cell_type": "code",
      "source": [
        "tf.reduce_sum(price_milk_petrol @ expence_two_weeks)"
      ],
      "metadata": {
        "colab": {
          "base_uri": "https://localhost:8080/"
        },
        "id": "XKsxirBelUG6",
        "outputId": "46792beb-54bd-4cd6-8367-0db0caddb389"
      },
      "execution_count": null,
      "outputs": [
        {
          "output_type": "execute_result",
          "data": {
            "text/plain": [
              "<tf.Tensor: shape=(), dtype=int32, numpy=574>"
            ]
          },
          "metadata": {},
          "execution_count": 28
        }
      ]
    }
  ]
}